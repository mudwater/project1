{
 "cells": [
  {
   "cell_type": "code",
   "execution_count": 6,
   "metadata": {},
   "outputs": [
    {
     "name": "stdout",
     "output_type": "stream",
     "text": [
      "group B 190\n",
      "group C 319\n",
      "group A 89\n",
      "group D 262\n",
      "group E 140\n"
     ]
    }
   ],
   "source": [
    "students = {}\n",
    "\n",
    "f = open('StudentsPerformance.xls')\n",
    "\n",
    "for line in f:\n",
    "    info = line.split(',')\n",
    "    if info[0] == '\"gender\"':\n",
    "        continue\n",
    "    else:\n",
    "        ethnicity = info[1][1:-1]\n",
    "        if ethnicity in students:\n",
    "            students[ethnicity] += 1\n",
    "        else:\n",
    "            students[ethnicity] = 1\n",
    "for group, number in students.items():\n",
    "    print(group, number)"
   ]
  },
  {
   "cell_type": "code",
   "execution_count": 43,
   "metadata": {},
   "outputs": [
    {
     "name": "stdout",
     "output_type": "stream",
     "text": [
      "{'female': {\"bachelor's degree\": 63, 'some college': 118, \"master's degree\": 36, \"associate's degree\": 116, 'high school': 94, 'some high school': 91}, 'male': {\"associate's degree\": 106, 'some college': 108, 'high school': 102, \"master's degree\": 23, \"bachelor's degree\": 55, 'some high school': 88}}\n",
      "{}\n"
     ]
    }
   ],
   "source": [
    "students = {}\n",
    "female_math = {}\n",
    "\n",
    "f = open('StudentsPerformance.xls')\n",
    "\n",
    "for line in f:\n",
    "    info = line.split(',')\n",
    "    if info[0] == '\"gender\"':\n",
    "        continue\n",
    "    else:\n",
    "        gender = info[0][1:-1]\n",
    "        parental = info[2][1:-1]\n",
    "        math = info[-3][1:-1]\n",
    "        if gender in students:\n",
    "            if parental in students[gender]:\n",
    "                students[gender][parental] += 1\n",
    "            else:\n",
    "                students[gender][parental] = 1\n",
    "        else:\n",
    "            students[gender] = {}\n",
    "            students[gender][parental] = 1\n",
    "            \n",
    "print(students)\n",
    "print(female_math)"
   ]
  },
  {
   "cell_type": "code",
   "execution_count": 14,
   "metadata": {},
   "outputs": [
    {
     "name": "stdout",
     "output_type": "stream",
     "text": [
      "{'group B': {\"bachelor's degree\": 20, \"master's degree\": 6, \"associate's degree\": 41, 'some college': 37, 'high school': 48, 'some high school': 38}, 'group C': {'some college': 69, \"associate's degree\": 78, 'some high school': 49, 'high school': 64, \"master's degree\": 19, \"bachelor's degree\": 40}, 'group A': {\"associate's degree\": 14, 'some college': 18, \"master's degree\": 3, 'some high school': 24, \"bachelor's degree\": 12, 'high school': 18}, 'group D': {'high school': 44, \"associate's degree\": 50, 'some college': 67, \"bachelor's degree\": 28, \"master's degree\": 23, 'some high school': 50}, 'group E': {\"master's degree\": 8, 'some college': 35, \"associate's degree\": 39, \"bachelor's degree\": 18, 'some high school': 18, 'high school': 22}}\n"
     ]
    }
   ],
   "source": [
    "students = {}\n",
    "\n",
    "f = open('StudentsPerformance.xls')\n",
    "\n",
    "for line in f:\n",
    "    info = line.split(',')\n",
    "    if info[0] == '\"gender\"':\n",
    "        continue\n",
    "    else:\n",
    "        ethnicity = info[1][1:-1]\n",
    "        parents = info[2][1:-1]\n",
    "        if ethnicity in students:\n",
    "            if parents in students[ethnicity]:\n",
    "                students[ethnicity][parents] += 1\n",
    "            else:\n",
    "                students[ethnicity][parents] = 1\n",
    "        else:\n",
    "            students[ethnicity] = {}\n",
    "            students[ethnicity][parents] = 1\n",
    "            \n",
    "print(students)"
   ]
  },
  {
   "cell_type": "code",
   "execution_count": 15,
   "metadata": {},
   "outputs": [
    {
     "name": "stdout",
     "output_type": "stream",
     "text": [
      "97 {'some college': 1, 'some high school': 1, \"associate's degree\": 3, \"bachelor's degree\": 1}\n",
      "98 {'some college': 2, \"associate's degree\": 1}\n",
      "99 {\"bachelor's degree\": 1, 'high school': 1, 'some college': 1}\n",
      "91 {\"associate's degree\": 4, 'some college': 2, \"bachelor's degree\": 2, \"master's degree\": 1}\n",
      "100 {\"associate's degree\": 2, 'some college': 3, \"bachelor's degree\": 2}\n",
      "96 {\"bachelor's degree\": 2, \"associate's degree\": 1}\n",
      "94 {'some high school': 2, \"associate's degree\": 2, \"bachelor's degree\": 1, \"master's degree\": 1, 'high school': 1}\n",
      "92 {'some high school': 2, \"bachelor's degree\": 2, \"associate's degree\": 1, \"master's degree\": 1}\n",
      "95 {\"associate's degree\": 1, \"master's degree\": 1}\n",
      "93 {'some college': 2, \"associate's degree\": 1, \"bachelor's degree\": 1}\n"
     ]
    }
   ],
   "source": [
    "students = {}\n",
    "\n",
    "import collections\n",
    "\n",
    "f = open('StudentsPerformance.xls')\n",
    "\n",
    "for line in f:\n",
    "    info = line.split(',')\n",
    "    if info[0] == '\"gender\"':\n",
    "        continue\n",
    "    else:\n",
    "        gender = info[0][1:-1]\n",
    "        parents = info[2][1:-1]\n",
    "        math = int(info[-3][1:-1])\n",
    "        if math in students:\n",
    "            if parents in students[math]:\n",
    "                students[math][parents] +=1\n",
    "            else:\n",
    "                students[math][parents] = 1\n",
    "        else:\n",
    "            students[math] = {}\n",
    "            students[math][parents] = 1\n",
    "\n",
    "for math, parents in students.items():\n",
    "    if math > 90:\n",
    "        print(math, parents)\n",
    "                \n"
   ]
  },
  {
   "cell_type": "code",
   "execution_count": 22,
   "metadata": {},
   "outputs": [
    {
     "name": "stdout",
     "output_type": "stream",
     "text": [
      "The girls of the criteria are: 2 prs.\n"
     ]
    }
   ],
   "source": [
    "students = {}\n",
    "\n",
    "\n",
    "f = open('StudentsPerformance.xls')\n",
    "\n",
    "for line in f:\n",
    "    info = line.split(',')\n",
    "    if info[0] == '\"gender\"':\n",
    "        continue\n",
    "    else:\n",
    "        gender = info[0][1:-1]\n",
    "        math = int(info[-3][1:-1])\n",
    "        parents = info[2][1:-1]\n",
    "        if gender in students:\n",
    "            if math >90:\n",
    "                if parents in students[gender]:\n",
    "                    students[gender][parents] +=1\n",
    "                else:\n",
    "                    students[gender][parents] = 1\n",
    "        else:\n",
    "            students[gender] = {}\n",
    "            students[gender][parents] = 1\n",
    "for keys,values in students.items():\n",
    "    if keys == 'female':\n",
    "        print('The girls of the criteria are: {} prs.'.format(values[\"master's degree\"]))\n",
    "          \n",
    "         "
   ]
  },
  {
   "cell_type": "code",
   "execution_count": 68,
   "metadata": {},
   "outputs": [
    {
     "name": "stdout",
     "output_type": "stream",
     "text": [
      "Девушек таких:72\n"
     ]
    }
   ],
   "source": [
    "f = open('StudentsPerformance.xls')\n",
    "fem_md = 0\n",
    "for line in f:\n",
    "    info = line.split(',')\n",
    "    parental_level_of_education = info[2][1:-1]\n",
    "    gender = info[0][1:-1]\n",
    "    math = info[-3][1:-1]\n",
    "    for math in students:\n",
    "        if gender == 'female' and parental_level_of_education == \"master's degree\":\n",
    "            fem_md +=1\n",
    "print('Девушек таких:{}'.format(fem_md))\n",
    "    "
   ]
  },
  {
   "cell_type": "code",
   "execution_count": 85,
   "metadata": {},
   "outputs": [
    {
     "name": "stdout",
     "output_type": "stream",
     "text": [
      "Counter({'some college': 944, \"associate's degree\": 928, 'high school': 752, 'some high school': 728, \"bachelor's degree\": 504, \"master's degree\": 288})\n",
      "77\n"
     ]
    }
   ],
   "source": [
    "f = open('StudentsPerformance.xls')\n",
    "import collections\n",
    "parental_level = []\n",
    "for line in f:\n",
    "    info = line.split(',')\n",
    "    parental_level_of_education = info[2][1:-1]\n",
    "    gender = info[0][1:-1]\n",
    "    math = info[-3][1:-1]\n",
    "    for line in info:\n",
    "        if gender == 'female':\n",
    "            parental_level.append(parental_level_of_education)\n",
    "c = collections.Counter()\n",
    "for parental_level_of_education in parental_level:\n",
    "    c[parental_level_of_education] +=1\n",
    "print(c)\n",
    "print(math)"
   ]
  },
  {
   "cell_type": "code",
   "execution_count": 23,
   "metadata": {},
   "outputs": [
    {
     "name": "stdout",
     "output_type": "stream",
     "text": [
      "The girls of the criteria are: 2 prs.\n"
     ]
    }
   ],
   "source": [
    "students = {}\n",
    "f = open('StudentsPerformance.xls')\n",
    "for line in f:\n",
    "    info = line.split(',')\n",
    "    if info[0] == '\"gender\"':\n",
    "        continue\n",
    "    else:\n",
    "        gender = info[0][1:-1]\n",
    "        parents = info[2][1:-1]\n",
    "        math = int(info[5][1:-1])\n",
    "        if gender in students:\n",
    "            if math >90:\n",
    "                if parents in students[gender]:\n",
    "                    students[gender][parents] += 1\n",
    "                else:\n",
    "                    students[gender][parents] = 1\n",
    "        else:\n",
    "            students[gender] = {}\n",
    "            students[gender][parents] = 1\n",
    "for keys,values in students.items():\n",
    "    if keys == 'female':\n",
    "        print('The girls of the criteria are: {} prs.'.format(values[\"master's degree\"]))"
   ]
  },
  {
   "cell_type": "code",
   "execution_count": null,
   "metadata": {},
   "outputs": [],
   "source": []
  }
 ],
 "metadata": {
  "kernelspec": {
   "display_name": "Python 3",
   "language": "python",
   "name": "python3"
  },
  "language_info": {
   "codemirror_mode": {
    "name": "ipython",
    "version": 3
   },
   "file_extension": ".py",
   "mimetype": "text/x-python",
   "name": "python",
   "nbconvert_exporter": "python",
   "pygments_lexer": "ipython3",
   "version": "3.7.4"
  }
 },
 "nbformat": 4,
 "nbformat_minor": 2
}
