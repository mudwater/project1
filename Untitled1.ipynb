{
 "cells": [
  {
   "cell_type": "code",
   "execution_count": 1,
   "metadata": {},
   "outputs": [],
   "source": [
    "# Модуль А3"
   ]
  },
  {
   "cell_type": "code",
   "execution_count": 31,
   "metadata": {},
   "outputs": [
    {
     "name": "stdout",
     "output_type": "stream",
     "text": [
      "кофе\n"
     ]
    }
   ],
   "source": [
    "proverb = 'Программисты - это устройства, преобразующие кофеин в код.'\n",
    "result = proverb.split()[5][:-2]\n",
    "print(result)"
   ]
  },
  {
   "cell_type": "code",
   "execution_count": 99,
   "metadata": {},
   "outputs": [
    {
     "name": "stdout",
     "output_type": "stream",
     "text": [
      "рПгоарммсиыт - тэо суртйотсав, рпоербзаюуище окефни в окд.\n"
     ]
    }
   ],
   "source": [
    "import re\n",
    "proverb = 'Программисты - это устройства, преобразующие кофеин в код.'\n",
    "t2 = re.sub(r'(\\w)(\\w)', r'\\2\\1', proverb)\n",
    "print(t2)\n"
   ]
  },
  {
   "cell_type": "code",
   "execution_count": null,
   "metadata": {},
   "outputs": [],
   "source": [
    "рПгоарммсиыт- э оту тсорсйвт,ап ербоарузщюеик фоие н вок.д"
   ]
  },
  {
   "cell_type": "code",
   "execution_count": 5,
   "metadata": {},
   "outputs": [
    {
     "name": "stdout",
     "output_type": "stream",
     "text": [
      "ргамсы-эоутосв,пебаущекфи  о."
     ]
    }
   ],
   "source": [
    "proverb = 'Программисты - это устройства, преобразующие кофеин в код.'\n",
    "for i,j in enumerate(proverb, start=1):\n",
    "    if i%2==0:\n",
    "        print(j, end='')"
   ]
  },
  {
   "cell_type": "raw",
   "metadata": {},
   "source": [
    "proverb = 'Программисты - это устройства, преобразующие кофеин в код.'\n",
    "result1=[]\n",
    "result2=[]\n",
    "for i,j in enumerate(proverb, start=1):\n",
    "    if i%2==0:\n",
    "        result1.append(j)\n",
    "        print(result1)\n",
    "for i,j in enumerate(proverb, start=1):\n",
    "    if i%2!=0:\n",
    "        result2.append(j)\n",
    "        print(result2)\n",
    "new_proverb=\n"
   ]
  },
  {
   "cell_type": "code",
   "execution_count": 2,
   "metadata": {},
   "outputs": [
    {
     "ename": "IndexError",
     "evalue": "string index out of range",
     "output_type": "error",
     "traceback": [
      "\u001b[1;31m---------------------------------------------------------------------------\u001b[0m",
      "\u001b[1;31mIndexError\u001b[0m                                Traceback (most recent call last)",
      "\u001b[1;32m<ipython-input-2-3749903dd246>\u001b[0m in \u001b[0;36m<module>\u001b[1;34m\u001b[0m\n\u001b[0;32m      2\u001b[0m \u001b[0mnew_proverb\u001b[0m \u001b[1;33m=\u001b[0m \u001b[1;34m''\u001b[0m\u001b[1;33m\u001b[0m\u001b[1;33m\u001b[0m\u001b[0m\n\u001b[0;32m      3\u001b[0m \u001b[1;32mfor\u001b[0m \u001b[0mi\u001b[0m \u001b[1;32min\u001b[0m \u001b[0mrange\u001b[0m\u001b[1;33m(\u001b[0m\u001b[1;36m0\u001b[0m\u001b[1;33m,\u001b[0m \u001b[0mlen\u001b[0m\u001b[1;33m(\u001b[0m\u001b[0mproverb\u001b[0m\u001b[1;33m)\u001b[0m\u001b[1;33m,\u001b[0m \u001b[1;36m2\u001b[0m\u001b[1;33m)\u001b[0m\u001b[1;33m:\u001b[0m\u001b[1;33m\u001b[0m\u001b[1;33m\u001b[0m\u001b[0m\n\u001b[1;32m----> 4\u001b[1;33m     \u001b[0mnew_proverb\u001b[0m \u001b[1;33m+=\u001b[0m \u001b[0mproverb\u001b[0m\u001b[1;33m[\u001b[0m\u001b[0mi\u001b[0m\u001b[1;33m+\u001b[0m\u001b[1;36m1\u001b[0m\u001b[1;33m]\u001b[0m\u001b[1;33m\u001b[0m\u001b[1;33m\u001b[0m\u001b[0m\n\u001b[0m\u001b[0;32m      5\u001b[0m     \u001b[0mnew_proverb\u001b[0m \u001b[1;33m+=\u001b[0m \u001b[0mproverb\u001b[0m\u001b[1;33m[\u001b[0m\u001b[0mi\u001b[0m\u001b[1;33m]\u001b[0m\u001b[1;33m\u001b[0m\u001b[1;33m\u001b[0m\u001b[0m\n\u001b[0;32m      6\u001b[0m \u001b[0mprint\u001b[0m\u001b[1;33m(\u001b[0m\u001b[0mnew_proverb\u001b[0m\u001b[1;33m)\u001b[0m\u001b[1;33m\u001b[0m\u001b[1;33m\u001b[0m\u001b[0m\n",
      "\u001b[1;31mIndexError\u001b[0m: string index out of range"
     ]
    }
   ],
   "source": [
    "proverb = 'abc'\n",
    "new_proverb = ''\n",
    "for i in range(0, len(proverb), 2):\n",
    "    new_proverb += proverb[i+1]\n",
    "    new_proverb += proverb[i]\n",
    "print(new_proverb)"
   ]
  },
  {
   "cell_type": "code",
   "execution_count": 61,
   "metadata": {},
   "outputs": [
    {
     "name": "stdout",
     "output_type": "stream",
     "text": [
      "рПгоарммсиыт- э оту тсорсйвт,ап ербоарузщюеик фоие н вок.д\n"
     ]
    }
   ],
   "source": [
    "proverb = 'Программисты - это устройства, преобразующие кофеин в код.'\n",
    "new_proverb = ''\n",
    "for i in range(0, len(proverb), 2):\n",
    "    new_proverb += proverb[i +1]\n",
    "    new_proverb += proverb[i]\n",
    "print(new_proverb)"
   ]
  },
  {
   "cell_type": "code",
   "execution_count": 112,
   "metadata": {},
   "outputs": [
    {
     "name": "stdout",
     "output_type": "stream",
     "text": [
      "е\n",
      "и\n",
      "н\n",
      "а\n",
      "в\n",
      "о\n",
      "р\n",
      "и\n",
      "м\n",
      "м\n",
      "а\n",
      "р\n",
      "г\n",
      "о\n",
      "р\n",
      "п\n"
     ]
    }
   ],
   "source": [
    "basic_word = 'программирование'\n",
    "inverted_word = ''\n",
    "for i in range(0, len(basic_word), 1):\n",
    "    inverted_word=basic_word[15-i]\n",
    "    print(inverted_word)"
   ]
  },
  {
   "cell_type": "code",
   "execution_count": 114,
   "metadata": {},
   "outputs": [
    {
     "name": "stdout",
     "output_type": "stream",
     "text": [
      "рПгоарммсиыт- э оту тсорсйвт,ап ербоарузщюеик фоие н вок.д\n"
     ]
    }
   ],
   "source": [
    "proverb = 'Программисты - это устройства, преобразующие кофеин в код.'\n",
    "#My solution\n",
    "new_proverb=[]\n",
    "for number, letter in enumerate(proverb):\n",
    "    if number%2==0:\n",
    "        (new_proverb.insert(number+1, letter))\n",
    "    elif number%2!=0:\n",
    "        (new_proverb.insert(number-1, letter))\n",
    "new_proverb=''.join(new_proverb)\n",
    "print(new_proverb)"
   ]
  },
  {
   "cell_type": "code",
   "execution_count": 115,
   "metadata": {},
   "outputs": [
    {
     "name": "stdout",
     "output_type": "stream",
     "text": [
      "рПгоарммсиыт- э оту тсорсйвт,ап ербоарузщюеик фоие н вок.д\n"
     ]
    }
   ],
   "source": [
    "proverb = 'Программисты - это устройства, преобразующие кофеин в код.'\n",
    "new_proverb = ''\n",
    "for i in range(0, len(proverb)):\n",
    "    if i % 2 == 0:\n",
    "        i = i + 1\n",
    "    elif i % 2 != 0:\n",
    "        i = i - 1\n",
    "    new_proverb += proverb[i]\n",
    "print(new_proverb)"
   ]
  },
  {
   "cell_type": "code",
   "execution_count": 117,
   "metadata": {},
   "outputs": [
    {
     "name": "stdout",
     "output_type": "stream",
     "text": [
      "рПгоарммсиыт- э оту тсорсйвт,ап ербоарузщюеик фоие н вок.д\n"
     ]
    }
   ],
   "source": [
    "even = ''\n",
    "odd=''\n",
    "new_proverb=''\n",
    "for i in range(len(proverb)):\n",
    "    if i == 0 or i%2 == 0:\n",
    "        even=even+proverb[i]\n",
    "    else:\n",
    "        odd=odd+proverb[i]\n",
    "for i in range(int(len(proverb)/2)):\n",
    "    new_proverb=new_proverb+odd[i]+even[i]\n",
    "print(new_proverb)"
   ]
  },
  {
   "cell_type": "code",
   "execution_count": 118,
   "metadata": {},
   "outputs": [
    {
     "name": "stdout",
     "output_type": "stream",
     "text": [
      "рПгоарммсиыт- э оту тсорсйвт,ап ербоарузщюеик фоие н вок.д\n"
     ]
    }
   ],
   "source": [
    "proverb = 'Программисты - это устройства, преобразующие кофеин в код.'\n",
    "a=[c for c in proverb]\n",
    "new = [c for c in proverb]\n",
    "for i in range(len(a)):\n",
    "    if i%2==0:\n",
    "        new[i]=a[i+1]\n",
    "    else:\n",
    "        new[i]=a[i-1]\n",
    "new_proverb = ''.join(new)\n",
    "print(new_proverb)"
   ]
  },
  {
   "cell_type": "code",
   "execution_count": 119,
   "metadata": {},
   "outputs": [
    {
     "name": "stdout",
     "output_type": "stream",
     "text": [
      "Слово \"программирование\" - это не палиндром\n"
     ]
    }
   ],
   "source": [
    "basic_word = 'программирование'\n",
    "invetrted_word = ''\n",
    "for i in range(-1,-(len(basic_word)+1),-1):\n",
    "    invetrted_word = invetrted_word + basic_word[i]\n",
    "if invetrted_word == basic_word:\n",
    "    print('Слово \"{0}\" является палиндромом'.format(basic_word))\n",
    "else:\n",
    "    print('Слово \"{0}\" - это не палиндром'.format(basic_word))"
   ]
  },
  {
   "cell_type": "code",
   "execution_count": 120,
   "metadata": {},
   "outputs": [
    {
     "name": "stdout",
     "output_type": "stream",
     "text": [
      "Число городов со сложными названиями - 3\n"
     ]
    }
   ],
   "source": [
    "city_list = ['Москва', 'Санкт-Петербург', 'Новосибирск', \n",
    "             'Екатеринбург', 'Нижний Новгород', 'Казань', \n",
    "             'Челябинск', 'Омск', 'Самара', 'Ростов-на-Дону']\n",
    "counter = 0\n",
    "for city in city_list:\n",
    "    if ' ' in city or '-' in city:\n",
    "        counter += 1\n",
    "print('Число городов со сложными названиями - {}'.format(counter))"
   ]
  },
  {
   "cell_type": "code",
   "execution_count": 122,
   "metadata": {},
   "outputs": [],
   "source": [
    "email = 'VeryBigBoss@skillfactory.ru'\n",
    "pos = email.find('@')\n",
    "domain = email[pos+1:]"
   ]
  },
  {
   "cell_type": "code",
   "execution_count": 123,
   "metadata": {},
   "outputs": [
    {
     "data": {
      "text/plain": [
       "'skillfactory.ru'"
      ]
     },
     "execution_count": 123,
     "metadata": {},
     "output_type": "execute_result"
    }
   ],
   "source": [
    "domain"
   ]
  },
  {
   "cell_type": "code",
   "execution_count": 128,
   "metadata": {},
   "outputs": [],
   "source": [
    "city_list = 'МоскваСанкт-ПетербургНовосибирскЕкатеринбургНижний НовгородКазаньЧелябинскОмскСамара'\n",
    "pos = city_list.find('Нижний')\n",
    "name = city_list[::]"
   ]
  },
  {
   "cell_type": "markdown",
   "metadata": {},
   "source": [
    "name"
   ]
  },
  {
   "cell_type": "code",
   "execution_count": 129,
   "metadata": {},
   "outputs": [
    {
     "data": {
      "text/plain": [
       "'МоскваСанкт-ПетербургНовосибирскЕкатеринбургНижний НовгородКазаньЧелябинскОмскСамара'"
      ]
     },
     "execution_count": 129,
     "metadata": {},
     "output_type": "execute_result"
    }
   ],
   "source": [
    "name"
   ]
  },
  {
   "cell_type": "code",
   "execution_count": 130,
   "metadata": {},
   "outputs": [
    {
     "name": "stdout",
     "output_type": "stream",
     "text": [
      "4\n"
     ]
    }
   ],
   "source": [
    "tongue_twister = 'Ехал Грека через реку, видит Грека - в реке рак. Сунул Грека руку в реку, рак за руку Греку - цап!'\n",
    "counter = tongue_twister.count('Грек')\n",
    "print(counter)"
   ]
  },
  {
   "cell_type": "code",
   "execution_count": 134,
   "metadata": {},
   "outputs": [
    {
     "name": "stdout",
     "output_type": "stream",
     "text": [
      "написанная\n",
      "это\n"
     ]
    }
   ],
   "source": [
    "proverb = 'Хорошо написанная программа - это программа, написанная 2 раза'\n",
    "\n",
    "while True:\n",
    "    index = proverb.find('программа')\n",
    "    if index == -1:\n",
    "        break\n",
    "    secret = proverb[:index].split()[-1]\n",
    "    print(secret)\n",
    "    proverb = proverb[index+9:]"
   ]
  },
  {
   "cell_type": "code",
   "execution_count": 162,
   "metadata": {},
   "outputs": [
    {
     "name": "stdout",
     "output_type": "stream",
     "text": [
      "14\n"
     ]
    }
   ],
   "source": [
    "number = 56.257\n",
    "string = str(number)\n",
    "pos = string.find('.')\n",
    "drob = string[pos+1:]\n",
    "sum=0\n",
    "for numb in drob:\n",
    "    sum+=int(numb)\n",
    "print(sum)"
   ]
  },
  {
   "cell_type": "code",
   "execution_count": 1,
   "metadata": {},
   "outputs": [
    {
     "name": "stdout",
     "output_type": "stream",
     "text": [
      "{'mail.ru': 3, 'yandex.ru': 5, 'gmail.com': 2}\n",
      "['mail.ru']\n",
      "['mail.ru', 'yandex.ru']\n",
      "['mail.ru', 'yandex.ru', 'yandex.ru']\n",
      "['mail.ru', 'yandex.ru', 'yandex.ru', 'gmail.com']\n",
      "['mail.ru', 'yandex.ru', 'yandex.ru', 'gmail.com', 'mail.ru']\n",
      "['mail.ru', 'yandex.ru', 'yandex.ru', 'gmail.com', 'mail.ru', 'gmail.com']\n",
      "['mail.ru', 'yandex.ru', 'yandex.ru', 'gmail.com', 'mail.ru', 'gmail.com', 'mail.ru']\n",
      "['mail.ru', 'yandex.ru', 'yandex.ru', 'gmail.com', 'mail.ru', 'gmail.com', 'mail.ru', 'yandex.ru']\n",
      "['mail.ru', 'yandex.ru', 'yandex.ru', 'gmail.com', 'mail.ru', 'gmail.com', 'mail.ru', 'yandex.ru', 'yandex.ru']\n",
      "['mail.ru', 'yandex.ru', 'yandex.ru', 'gmail.com', 'mail.ru', 'gmail.com', 'mail.ru', 'yandex.ru', 'yandex.ru', 'yandex.ru']\n",
      "Counter({'yandex.ru': 5, 'mail.ru': 3, 'gmail.com': 2})\n"
     ]
    }
   ],
   "source": [
    "import collections\n",
    "emails_list = ['vasya@mail.ru', \n",
    "          'akakiy@yandex.ru', \n",
    "          'spyderman@yandex.ru', \n",
    "          'XFiles@gmail.com', \n",
    "          'hello@mail.ru', \n",
    "          'noname@gmail.com', \n",
    "          'DonaldTrump@mail.ru', \n",
    "          'a768#af@yandex.ru', \n",
    "          'Ivan_Ivanovich@yandex.ru', \n",
    "          'thebestmail@yandex.ru']\n",
    "        \n",
    "\n",
    "        \n",
    "emails_list = ['vasya@mail.ru', 'akakiy@yandex.ru', 'spyderman@yandex.ru', 'XFiles@gmail.com', 'hello@mail.ru', 'noname@gmail.com', 'DonaldTrump@mail.ru', 'a768#af@yandex.ru', 'Ivan_Ivanovich@yandex.ru', 'thebestmail@yandex.ru']\n",
    "counter=collections.Counter()\n",
    "for email in emails_list:\n",
    "    counter.update([email[email.find('@')+1:]])\n",
    "emails_dict=dict(counter)\n",
    "print(emails_dict)\n",
    "\n",
    "emails_list = ['vasya@mail.ru', \n",
    "          'akakiy@yandex.ru', \n",
    "          'spyderman@yandex.ru', \n",
    "          'XFiles@gmail.com', \n",
    "          'hello@mail.ru', \n",
    "          'noname@gmail.com', \n",
    "          'DonaldTrump@mail.ru', \n",
    "          'a768#af@yandex.ru', \n",
    "          'Ivan_Ivanovich@yandex.ru', \n",
    "          'thebestmail@yandex.ru']\n",
    "domain_list=[]\n",
    "for i in emails_list:\n",
    "    pos = i.find('@')\n",
    "    domain = i[pos+1:]\n",
    "    domain_list.append(domain)\n",
    "#print(domain_list)\n",
    "import collections\n",
    "emails_dict = collections.Counter()\n",
    "for category in domain_list:\n",
    "    emails_dict[category] += 1\n",
    "print (emails_dict)\n",
    "    "
   ]
  },
  {
   "cell_type": "code",
   "execution_count": 42,
   "metadata": {},
   "outputs": [
    {
     "name": "stdout",
     "output_type": "stream",
     "text": [
      "лучшее\n"
     ]
    }
   ],
   "source": [
    "string = 'Интернет-открытки - это лучшее средство для мужчины сказать женщине о своих чувствах прямо в глаза.'\n",
    "secret = string[24:30]\n",
    "new_string = string.replace(secret.lower(), secret.upper())\n",
    "print(secret)"
   ]
  },
  {
   "cell_type": "code",
   "execution_count": 24,
   "metadata": {},
   "outputs": [
    {
     "name": "stdout",
     "output_type": "stream",
     "text": [
      "Тяжёлая интернет:)зависимость :) это когда ты выходишь из интернета:) а он из тебя нет:)\n"
     ]
    }
   ],
   "source": [
    "string = 'Тяжёлая интернет-зависимость - это когда ты выходишь из интернета, а он из тебя нет.'\n",
    "znak = '!?.,:-'\n",
    "for letter in string:\n",
    "    if letter in znak:\n",
    "        string = string.replace(letter, ':)')\n",
    "print(string)"
   ]
  },
  {
   "cell_type": "code",
   "execution_count": 25,
   "metadata": {},
   "outputs": [
    {
     "name": "stdout",
     "output_type": "stream",
     "text": [
      "Тяжёлая интернет:)зависимость :) это когда ты выходишь из интернета:) а он из тебя нет:)\n"
     ]
    }
   ],
   "source": [
    "string = 'Тяжёлая интернет-зависимость - это когда ты выходишь из интернета, а он из тебя нет.'\n",
    "punctuation = '.,:-!?'\n",
    "string = ''.join([letter if letter not in punctuation else ':)' for letter in string])\n",
    "print(string)\n",
    "\n",
    "\n"
   ]
  },
  {
   "cell_type": "code",
   "execution_count": 29,
   "metadata": {},
   "outputs": [
    {
     "name": "stdout",
     "output_type": "stream",
     "text": [
      "А - согласная буква\n",
      "л - согласная буква\n",
      "е - гласная буква\n",
      "к - согласная буква\n",
      "с - согласная буква\n",
      "а - гласная буква\n",
      "н - согласная буква\n",
      "д - согласная буква\n",
      "р - согласная буква\n",
      "Александр\n"
     ]
    }
   ],
   "source": [
    "name = 'Александр'\n",
    "glas=['а', 'о', 'и', 'е', 'ё', 'э', 'ы', 'у', 'ю', 'я']\n",
    "for letter in name:\n",
    "    if letter in glas:\n",
    "        print('{} - гласная буква'.format(letter))\n",
    "    else:\n",
    "        print(letter, '- согласная буква')\n",
    "print(name)\n",
    "\n"
   ]
  },
  {
   "cell_type": "code",
   "execution_count": 30,
   "metadata": {},
   "outputs": [
    {
     "name": "stdout",
     "output_type": "stream",
     "text": [
      "С - согласная буква\n",
      "е - гласная буква\n",
      "в - согласная буква\n",
      "а - гласная буква\n",
      "с - согласная буква\n",
      "т - согласная буква\n",
      "и - гласная буква\n",
      "а - гласная буква\n",
      "н - согласная буква\n"
     ]
    }
   ],
   "source": [
    "name = 'Севастиан'\n",
    "vowels = 'аеёиоуыэюя'\n",
    "for letter in name:\n",
    "    if letter.lower() in vowels:\n",
    "        print(letter, '- гласная буква')\n",
    "    else:\n",
    "        print(letter, '- согласная буква')"
   ]
  },
  {
   "cell_type": "code",
   "execution_count": 31,
   "metadata": {},
   "outputs": [
    {
     "name": "stdout",
     "output_type": "stream",
     "text": [
      "Введите ДА или НЕТ: дА\n",
      "Вы ответили \"ДА\"! Я счастлив!\n"
     ]
    }
   ],
   "source": [
    "answer = input('Введите ДА или НЕТ: ')\n",
    "if answer.lower() == 'да':\n",
    "    print('Вы ответили \"ДА\"! Я счастлив!')"
   ]
  },
  {
   "cell_type": "code",
   "execution_count": 32,
   "metadata": {},
   "outputs": [
    {
     "name": "stdout",
     "output_type": "stream",
     "text": [
      "дА\n"
     ]
    }
   ],
   "source": [
    "print(answer)"
   ]
  },
  {
   "cell_type": "code",
   "execution_count": 33,
   "metadata": {},
   "outputs": [],
   "source": [
    "import re\n",
    "pattern = re.compile('[А-Я][а-я]*\\W')\n",
    "string = '!!! Йо! Учиться, учиться и учиться! Вперёд! Только вперёд!' \n",
    "pattern.match(string)"
   ]
  },
  {
   "cell_type": "code",
   "execution_count": 34,
   "metadata": {},
   "outputs": [
    {
     "data": {
      "text/plain": [
       "<re.Match object; span=(4, 7), match='Йо!'>"
      ]
     },
     "execution_count": 34,
     "metadata": {},
     "output_type": "execute_result"
    }
   ],
   "source": [
    "pattern.search(string)"
   ]
  },
  {
   "cell_type": "code",
   "execution_count": 35,
   "metadata": {},
   "outputs": [
    {
     "data": {
      "text/plain": [
       "['Йо!', 'Учиться,', 'Только ']"
      ]
     },
     "execution_count": 35,
     "metadata": {},
     "output_type": "execute_result"
    }
   ],
   "source": [
    "pattern.findall(string)"
   ]
  },
  {
   "cell_type": "code",
   "execution_count": 57,
   "metadata": {},
   "outputs": [
    {
     "data": {
      "text/plain": [
       "['а н',\n",
       " 'а в',\n",
       " 'о в',\n",
       " 'я р',\n",
       " 'я р',\n",
       " 'и Г',\n",
       " 'о н',\n",
       " 'а д',\n",
       " ', п',\n",
       " 'е н',\n",
       " 'и д',\n",
       " 'о н',\n",
       " 'е п',\n",
       " 'а Г',\n",
       " 'е н',\n",
       " 'а п',\n",
       " 'о в',\n",
       " 'е н',\n",
       " 'а п',\n",
       " 'о б',\n",
       " 'о к',\n",
       " 'о т',\n",
       " 'и П']"
      ]
     },
     "execution_count": 57,
     "metadata": {},
     "output_type": "execute_result"
    }
   ],
   "source": [
    "import re\n",
    "pattern = re.compile('[а, е, ё, и, о, у, ы, э, ю, я]\\s[Бб, Вв, Гг, Дд, Жж, Зз, Йй, Кк, Лл, Мм, Нн, Пп, Рр, Сс, Тт, Фф, Хх, Цц, Чч, Шш, Щщ]')\n",
    "text = 'Разработка языка Python была начата в конце 1980-х годов сотрудником голландского института CWI Гвидо ван Россумом. Для распределённой ОС Amoeba требовался расширяемый скриптовый язык, и Гвидо начал писать Python на досуге, позаимствовав некоторые наработки для языка ABC (Гвидо участвовал в разработке этого языка, ориентированного на обучение программированию). В феврале 1991 года Гвидо опубликовал исходный текст в группе новостей alt.sources. Название языка произошло вовсе не от вида пресмыкающихся. Автор назвал язык в честь популярного британского комедийного телешоу 1970-х \"Летающий цирк Монти Пайтона\".'\n",
    "pattern.findall(text)"
   ]
  },
  {
   "cell_type": "code",
   "execution_count": 5,
   "metadata": {},
   "outputs": [
    {
     "name": "stdout",
     "output_type": "stream",
     "text": [
      "atsap\n",
      "atsap\n",
      "atsap\n"
     ]
    }
   ],
   "source": [
    "string = 'pasta'\n",
    "new_string = string[::-1]\n",
    "print(new_string)\n",
    "new_string1 = string[len(string)-1::-1]\n",
    "print(new_string1)\n",
    "new_string2 = string[-1::-1]\n",
    "print(new_string2)"
   ]
  },
  {
   "cell_type": "code",
   "execution_count": null,
   "metadata": {},
   "outputs": [],
   "source": []
  }
 ],
 "metadata": {
  "kernelspec": {
   "display_name": "Python 3",
   "language": "python",
   "name": "python3"
  },
  "language_info": {
   "codemirror_mode": {
    "name": "ipython",
    "version": 3
   },
   "file_extension": ".py",
   "mimetype": "text/x-python",
   "name": "python",
   "nbconvert_exporter": "python",
   "pygments_lexer": "ipython3",
   "version": "3.7.4"
  }
 },
 "nbformat": 4,
 "nbformat_minor": 2
}
