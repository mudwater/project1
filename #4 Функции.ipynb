{
 "cells": [
  {
   "cell_type": "code",
   "execution_count": 3,
   "metadata": {},
   "outputs": [
    {
     "name": "stdout",
     "output_type": "stream",
     "text": [
      "25\n"
     ]
    }
   ],
   "source": [
    "def square(x):\n",
    "    return x**2\n",
    "square_result = square(5)\n",
    "print(square_result)"
   ]
  },
  {
   "cell_type": "code",
   "execution_count": 5,
   "metadata": {},
   "outputs": [
    {
     "name": "stdout",
     "output_type": "stream",
     "text": [
      "60\n"
     ]
    }
   ],
   "source": [
    "def count_cost(product):\n",
    "    if product == \"apple\":\n",
    "        cost = 30\n",
    "    else:\n",
    "        cost = 60\n",
    "    return cost\n",
    "orange_cost = count_cost(\"orange\")\n",
    "print(orange_cost)"
   ]
  },
  {
   "cell_type": "code",
   "execution_count": 6,
   "metadata": {},
   "outputs": [
    {
     "name": "stdout",
     "output_type": "stream",
     "text": [
      "400\n"
     ]
    }
   ],
   "source": [
    "def square(x):\n",
    "    return x**2\n",
    "square_result = square(20)\n",
    "print(square_result)"
   ]
  },
  {
   "cell_type": "code",
   "execution_count": 8,
   "metadata": {},
   "outputs": [
    {
     "name": "stdout",
     "output_type": "stream",
     "text": [
      "115\n"
     ]
    }
   ],
   "source": [
    "def sum_2(x, y):\n",
    "    result = x+y\n",
    "    return result\n",
    "x=42\n",
    "y=73\n",
    "print(sum_2(x,y))"
   ]
  },
  {
   "cell_type": "code",
   "execution_count": 8,
   "metadata": {},
   "outputs": [
    {
     "name": "stdout",
     "output_type": "stream",
     "text": [
      "8\n"
     ]
    }
   ],
   "source": [
    "def power(x,y):\n",
    "    result = x**y\n",
    "    return result\n",
    "x = 2\n",
    "y = 3\n",
    "print(power(2, 3))"
   ]
  },
  {
   "cell_type": "code",
   "execution_count": 35,
   "metadata": {},
   "outputs": [
    {
     "name": "stdout",
     "output_type": "stream",
     "text": [
      "8.0\n"
     ]
    }
   ],
   "source": [
    "def get_median(list):\n",
    "    list.sort(reverse = False)\n",
    "    if (len(list))%2 != 0:\n",
    "        a = int((len(list)-1)/2)\n",
    "        median = list[a:-a]\n",
    "    else:\n",
    "        a = int((len(list)-2)/2)\n",
    "        mark = list[a:-a]\n",
    "        median = (sum(mark)/2)\n",
    "    return median\n",
    "            \n",
    "list = [3, 3, 7, 9, 10, 12]\n",
    "median = get_median(list)\n",
    "print(median)\n"
   ]
  },
  {
   "cell_type": "code",
   "execution_count": 36,
   "metadata": {},
   "outputs": [
    {
     "name": "stdout",
     "output_type": "stream",
     "text": [
      "8.0\n"
     ]
    }
   ],
   "source": [
    "def get_median(list):\n",
    "    list = sorted(list)\n",
    "    if len(list)%2 == 0:\n",
    "        median = (list[len(list)//2] + list[len(list)//2-1])/2\n",
    "    else:\n",
    "        median = list[len(list)//2]\n",
    "    return median\n",
    "list = [3, 3, 7, 9, 10, 12]\n",
    "median = get_median(list)\n",
    "print(median)"
   ]
  },
  {
   "cell_type": "code",
   "execution_count": null,
   "metadata": {},
   "outputs": [],
   "source": []
  }
 ],
 "metadata": {
  "kernelspec": {
   "display_name": "Python 3",
   "language": "python",
   "name": "python3"
  },
  "language_info": {
   "codemirror_mode": {
    "name": "ipython",
    "version": 3
   },
   "file_extension": ".py",
   "mimetype": "text/x-python",
   "name": "python",
   "nbconvert_exporter": "python",
   "pygments_lexer": "ipython3",
   "version": "3.7.4"
  }
 },
 "nbformat": 4,
 "nbformat_minor": 2
}
