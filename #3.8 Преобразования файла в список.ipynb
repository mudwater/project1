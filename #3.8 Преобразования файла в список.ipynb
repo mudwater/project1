{
 "cells": [
  {
   "cell_type": "code",
   "execution_count": 1,
   "metadata": {},
   "outputs": [
    {
     "name": "stdout",
     "output_type": "stream",
     "text": [
      "0.493\n"
     ]
    }
   ],
   "source": [
    "math = []\n",
    "\n",
    "f = open('StudentsPerformance.xls')\n",
    "\n",
    "for line in f:\n",
    "    info = line.split(',')\n",
    "    if info[0] == '\"gender\"': #убираем первую строку, т.к. это название столбца а не значения\n",
    "        continue\n",
    "    else:\n",
    "        mark = int(info[5][1:-1])\n",
    "        math.append(mark)\n",
    "math_avg = sum(math)/len(math)\n",
    "above_avg = 0\n",
    "for mark in math:\n",
    "    if mark > math_avg:\n",
    "        above_avg += 1\n",
    "print(above_avg / 1000)"
   ]
  },
  {
   "cell_type": "code",
   "execution_count": 4,
   "metadata": {},
   "outputs": [],
   "source": [
    "import re\n",
    "pattern = re.compile('\\d+') #строка состоящая только из цифр\n",
    "\n",
    "exams = []\n",
    "\n",
    "f = open('StudentsPerformance.xls')\n",
    "\n",
    "for line in f:\n",
    "    info = line.split(',')\n",
    "    if info[0] == '\"gender\"':\n",
    "        continue\n",
    "    else:\n",
    "        new_line = []\n",
    "        for item in info:\n",
    "            if pattern.search(item) != None:\n",
    "                new_line.append(int(pattern.search(item)[0]))\n",
    "            else:\n",
    "                new_line.append(item[1:-1])\n",
    "    exams.append(new_line)"
   ]
  },
  {
   "cell_type": "code",
   "execution_count": 32,
   "metadata": {},
   "outputs": [
    {
     "name": "stdout",
     "output_type": "stream",
     "text": [
      "69.169\n",
      "487\n"
     ]
    }
   ],
   "source": [
    "read = []\n",
    "\n",
    "f = open('StudentsPerformance.xls')\n",
    "\n",
    "for line in f:\n",
    "    info = line.split(',')\n",
    "    if info[0] == '\"gender\"': #убираем первую строку, т.к. это название столбца а не значения\n",
    "        continue\n",
    "    else:\n",
    "        mark = int(info[6][1:-1])\n",
    "        read.append(mark)\n",
    "read_avg = sum(read)/len(read) #средний балл по чтению\n",
    "print(read_avg)\n",
    "\n",
    "below_avg = 0         #оценка по чтению ниже среднего\n",
    "for mark in read:\n",
    "    if mark < read_avg:\n",
    "        below_avg +=1\n",
    "print(below_avg)\n",
    "\n",
    "\n"
   ]
  },
  {
   "cell_type": "code",
   "execution_count": 35,
   "metadata": {},
   "outputs": [
    {
     "name": "stdout",
     "output_type": "stream",
     "text": [
      "518\n",
      "[72, 90, 95, 83, 95, 60, 81, 53, 75, 32, 58, 75, 73, 69, 70, 74, 65, 72, 81, 64, 90, 73, 58, 56, 65, 71, 74, 84, 41, 85, 17, 80, 58, 72, 64, 63, 51, 74, 68, 49, 80, 83, 71, 70, 86, 72, 86, 72, 67, 67, 91, 67, 100, 76, 64, 89, 58, 100, 85, 82, 63, 69, 92, 93, 95, 49, 81, 66, 72, 62, 55, 39, 75, 70, 89, 74, 86, 88, 92, 100, 76, 83, 75, 86, 67, 51, 91, 54, 77, 70, 100, 64, 50, 69, 88, 65, 64, 84, 53, 79, 84, 81, 69, 81, 61, 62, 86, 42, 68, 65, 66, 56, 72, 95, 86, 60, 83, 52, 70, 64, 83, 70, 73, 73, 75, 81, 79, 50, 93, 75, 72, 92, 76, 53, 70, 92, 63, 86, 79, 78, 46, 89, 73, 84, 75, 71, 57, 76, 67, 64, 82, 65, 79, 86, 81, 53, 46, 90, 55, 93, 68, 38, 55, 73, 76, 80, 94, 65, 78, 58, 71, 72, 66, 90, 62, 58, 34, 64, 84, 73, 97, 70, 90, 95, 83, 86, 49, 43, 76, 73, 78, 64, 68, 74, 67, 89, 54, 65, 99, 59, 73, 80, 57, 71, 72, 93, 58, 58, 85, 67, 72, 59, 81, 81, 73, 83, 74, 85, 92, 77, 61, 89, 100, 70, 90, 87, 31, 88, 85, 69, 86, 67, 90, 76, 64, 59, 52, 75, 85, 64, 83, 88, 64, 48, 78, 69, 79, 87, 89, 59, 82, 92, 61, 97, 87, 89, 74, 78, 78, 86, 53, 41, 74, 67, 54, 88, 83, 66, 77, 95, 63, 100, 67, 48, 39, 72, 70, 75, 74, 80, 100, 71, 62, 66, 81, 91, 56, 61, 97, 79, 73, 75, 77, 76, 73, 63, 64, 66, 76, 100, 79, 77, 82, 60, 29, 78, 84, 58, 64, 63, 59, 77, 93, 68, 45, 61, 58, 51, 74, 88, 80, 92, 74, 88, 81, 79, 81, 70, 62, 53, 79, 80, 86, 70, 79, 67, 60, 71, 69, 60, 73, 85, 76, 78, 84, 77, 64, 78, 82, 72, 40, 99, 53, 76, 74, 77, 63, 89, 82, 72, 78, 81, 67, 64, 63, 61, 85, 100, 70, 94, 96, 76, 72, 90, 75, 92, 77, 89, 58, 66, 57, 84, 73, 60, 90, 95, 59, 72, 58, 62, 72, 75, 71, 67, 78, 58, 72, 44, 79, 56, 90, 85, 59, 51, 79, 38, 65, 62, 66, 52, 68, 84, 55, 94, 85, 76, 74, 45, 64, 80, 59, 72, 91, 90, 90, 87, 58, 68, 69, 86, 60, 86, 82, 64, 82, 77, 52, 44, 65, 72, 68, 85, 97, 79, 62, 86, 71, 72, 62, 72, 76, 70, 73, 51, 76, 100, 65, 85, 92, 67, 62, 34, 78, 78, 78, 48, 100, 84, 84, 75, 84, 61, 62, 61, 70, 61, 77, 53, 65, 61, 56, 58, 91, 68, 61, 58, 75, 77, 74, 69, 100, 63, 58, 54, 100, 76, 70, 76, 84, 100, 50, 65, 63, 82, 95, 24, 87, 75, 59, 45, 86, 82, 76, 72, 99, 71, 78, 86]\n",
      "72.60810810810811\n"
     ]
    }
   ],
   "source": [
    "read = []\n",
    "\n",
    "f = open('StudentsPerformance.xls')\n",
    "females = 0\n",
    "for line in f:\n",
    "    info = line.split(',')\n",
    "    gender = info[0][1:-1]\n",
    "    if gender == 'female':\n",
    "        females +=1\n",
    "        mark = int(info[6][1:-1]) #int переводит из строки в число, иначе не считает сумму\n",
    "        read.append(mark)\n",
    "read_fem_avg = sum(read)/len(read)\n",
    "print(females)\n",
    "print(read)\n",
    "print(read_fem_avg)\n",
    "\n",
    "\n"
   ]
  },
  {
   "cell_type": "code",
   "execution_count": 48,
   "metadata": {},
   "outputs": [
    {
     "name": "stdout",
     "output_type": "stream",
     "text": [
      "68\n"
     ]
    }
   ],
   "source": [
    "writing = []\n",
    "\n",
    "f = open('StudentsPerformance.xls')\n",
    "\n",
    "for line in f:\n",
    "    info = line.split(',')\n",
    "    if info[0] == '\"gender\"': #убираем первую строку, т.к. это название столбца а не значения\n",
    "        continue\n",
    "    else:\n",
    "        mark = int(info[7][1:-2])\n",
    "        writing.append(mark)\n",
    "above_90 = 0         #оценка по письму выще 90\n",
    "for mark in writing:\n",
    "    if mark > 90:\n",
    "        above_90 +=1\n",
    "print(above_90)\n",
    "\n"
   ]
  },
  {
   "cell_type": "code",
   "execution_count": 22,
   "metadata": {},
   "outputs": [
    {
     "name": "stdout",
     "output_type": "stream",
     "text": [
      "[93, 92, 92, 100, 100, 92, 93, 91, 100, 100, 94, 95, 93, 91, 94, 95, 95, 96, 95, 95, 100, 97, 100, 91, 91, 92, 92, 94, 97, 92, 92, 96, 99, 91, 93, 99, 98, 100, 99, 99, 94, 92, 95, 92, 93, 96, 91, 95, 91, 91, 100, 91, 96, 100, 100, 100, 94, 91, 95]\n"
     ]
    }
   ],
   "source": [
    "f = open('StudentsPerformance.xls')\n",
    "read = []\n",
    "read_avg = []\n",
    "for line in f:\n",
    "    info = line.split(',')\n",
    "    if info[0] == '\"gender\"':\n",
    "        continue\n",
    "    else:\n",
    "        if info[3] == '\"standard\"' and int(info[7][1:-2]) > 90:\n",
    "            read.append(int(info[7][1:-2]))\n",
    "print(read)"
   ]
  },
  {
   "cell_type": "code",
   "execution_count": 2,
   "metadata": {},
   "outputs": [
    {
     "name": "stdout",
     "output_type": "stream",
     "text": [
      "482\n",
      "[57, 78, 43, 64, 54, 52, 72, 89, 42, 69, 54, 71, 74, 54, 70, 42, 87, 81, 56, 61, 65, 54, 84, 55, 69, 44, 78, 55, 59, 74, 39, 61, 64, 37, 58, 55, 57, 49, 41, 26, 78, 45, 47, 64, 39, 34, 79, 45, 81, 66, 67, 74, 44, 86, 63, 55, 53, 77, 89, 57, 80, 68, 77, 82, 84, 37, 74, 79, 55, 54, 55, 61, 43, 73, 84, 68, 100, 67, 67, 49, 67, 60, 62, 78, 53, 53, 51, 73, 88, 68, 52, 67, 76, 66, 52, 83, 62, 55, 69, 56, 77, 41, 71, 62, 80, 79, 28, 51, 91, 83, 77, 56, 85, 80, 50, 72, 64, 43, 87, 82, 75, 66, 52, 80, 68, 51, 74, 76, 76, 60, 49, 80, 52, 77, 79, 73, 42, 63, 49, 85, 78, 56, 52, 48, 82, 82, 75, 76, 70, 73, 60, 77, 62, 41, 74, 46, 87, 78, 54, 76, 67, 87, 52, 60, 61, 66, 72, 71, 61, 23, 75, 60, 37, 56, 78, 70, 51, 61, 72, 73, 61, 74, 74, 57, 61, 62, 84, 60, 58, 58, 66, 77, 74, 43, 64, 100, 81, 70, 67, 67, 54, 45, 63, 59, 43, 65, 84, 83, 66, 67, 73, 74, 73, 59, 56, 39, 83, 71, 59, 63, 66, 56, 66, 48, 68, 66, 56, 88, 82, 66, 81, 46, 73, 58, 56, 54, 65, 58, 54, 58, 67, 74, 62, 68, 71, 71, 68, 52, 74, 47, 53, 82, 64, 71, 61, 70, 59, 78, 71, 50, 49, 49, 58, 59, 52, 60, 61, 61, 69, 60, 66, 92, 69, 82, 83, 67, 72, 76, 90, 62, 45, 67, 66, 90, 51, 43, 48, 68, 75, 96, 55, 51, 57, 62, 68, 24, 54, 57, 89, 72, 60, 90, 78, 81, 73, 63, 51, 96, 97, 70, 48, 57, 64, 60, 84, 74, 76, 52, 65, 56, 67, 66, 87, 77, 66, 63, 74, 72, 57, 75, 61, 68, 55, 66, 75, 78, 58, 90, 66, 84, 72, 34, 59, 87, 84, 81, 78, 73, 59, 48, 43, 74, 51, 39, 46, 47, 57, 79, 71, 60, 73, 55, 79, 75, 64, 84, 69, 72, 77, 55, 58, 68, 77, 81, 63, 62, 60, 48, 73, 65, 85, 81, 65, 74, 84, 70, 60, 73, 80, 81, 75, 54, 31, 47, 84, 86, 70, 52, 67, 54, 60, 50, 64, 57, 58, 77, 85, 85, 54, 75, 67, 67, 64, 68, 49, 73, 42, 93, 82, 53, 42, 74, 51, 58, 84, 90, 64, 82, 61, 64, 46, 72, 51, 74, 29, 54, 84, 77, 48, 64, 42, 100, 96, 70, 66, 70, 64, 56, 43, 74, 57, 71, 75, 87, 63, 57, 81, 68, 66, 66, 62, 82, 50, 73, 52, 57, 87, 81, 57, 68, 63, 72, 62, 65, 41, 78, 85, 51, 75, 81, 63, 55]\n",
      "65.47302904564316\n"
     ]
    }
   ],
   "source": [
    "read = []\n",
    "\n",
    "f = open('StudentsPerformance.xls')\n",
    "males = 0\n",
    "for line in f:\n",
    "    info = line.split(',')\n",
    "    gender = info[0][1:-1]\n",
    "    if gender == 'male':\n",
    "        males +=1\n",
    "        mark = int(info[-2][1:-1]) #int переводит из строки в число, иначе не считает сумму\n",
    "        read.append(mark)\n",
    "read_mal_avg = sum(read)/len(read)\n",
    "print(males)\n",
    "print(read)\n",
    "print(read_mal_avg)\n"
   ]
  },
  {
   "cell_type": "code",
   "execution_count": 4,
   "metadata": {},
   "outputs": [
    {
     "name": "stdout",
     "output_type": "stream",
     "text": [
      "63.02253521126761\n"
     ]
    }
   ],
   "source": [
    "f = open('StudentsPerformance.xls')\n",
    "write = []\n",
    "write_avg = []\n",
    "for line in f:\n",
    "    info = line.split(',')\n",
    "    if info[0] == '\"gender\"':\n",
    "        continue\n",
    "    else:\n",
    "        if info[3] == '\"free/reduced\"':\n",
    "            write.append(int(info[7][1:-2]))\n",
    "write_avg = sum(write)/len(write)\n",
    "print(write_avg)"
   ]
  },
  {
   "cell_type": "code",
   "execution_count": 15,
   "metadata": {},
   "outputs": [
    {
     "name": "stdout",
     "output_type": "stream",
     "text": [
      "[100, 92, 100, 96, 97, 100, 100]\n",
      "97.85714285714286\n"
     ]
    }
   ],
   "source": [
    "f = open('StudentsPerformance.xls')\n",
    "read = []\n",
    "read_avg = []\n",
    "for line in f:\n",
    "    info = line.split(',')\n",
    "    if info[0] == '\"gender\"':\n",
    "        continue\n",
    "    else:\n",
    "        if int(info[-3][1:-1]) == 100:\n",
    "            read.append(int(info[-2][1:-1]))\n",
    "print(read)\n",
    "read_avg = sum(read)/len(read)\n",
    "print(read_avg)"
   ]
  },
  {
   "cell_type": "code",
   "execution_count": 16,
   "metadata": {},
   "outputs": [
    {
     "name": "stdout",
     "output_type": "stream",
     "text": [
      "['a', 'k', 'k', 'a', 'f']\n"
     ]
    }
   ],
   "source": [
    "string = 'fakka'\n",
    "new_string = list(reversed(string))\n",
    "print(new_string)"
   ]
  },
  {
   "cell_type": "code",
   "execution_count": null,
   "metadata": {},
   "outputs": [],
   "source": []
  }
 ],
 "metadata": {
  "kernelspec": {
   "display_name": "Python 3",
   "language": "python",
   "name": "python3"
  },
  "language_info": {
   "codemirror_mode": {
    "name": "ipython",
    "version": 3
   },
   "file_extension": ".py",
   "mimetype": "text/x-python",
   "name": "python",
   "nbconvert_exporter": "python",
   "pygments_lexer": "ipython3",
   "version": "3.7.4"
  }
 },
 "nbformat": 4,
 "nbformat_minor": 2
}
