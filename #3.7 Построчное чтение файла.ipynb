{
 "cells": [
  {
   "cell_type": "code",
   "execution_count": 3,
   "metadata": {},
   "outputs": [
    {
     "name": "stdout",
     "output_type": "stream",
     "text": [
      "Мальчиков:482, девочек:518\n"
     ]
    }
   ],
   "source": [
    "f = open('StudentsPerformance.xls')\n",
    "males = 0\n",
    "females = 0\n",
    "for line in f:\n",
    "    info = line.split(',')\n",
    "    gender = info[0][1:-1]\n",
    "    if gender == 'female':\n",
    "        females +=1\n",
    "    elif gender == 'male':\n",
    "        males +=1\n",
    "print('Мальчиков:{}, девочек:{}'.format(males, females))"
   ]
  },
  {
   "cell_type": "code",
   "execution_count": 10,
   "metadata": {},
   "outputs": [
    {
     "name": "stdout",
     "output_type": "stream",
     "text": [
      "Бакалавров:118\n"
     ]
    }
   ],
   "source": [
    "f = open('StudentsPerformance.xls')\n",
    "bachelors = 0\n",
    "for line in f:\n",
    "    info = line.split(',')\n",
    "    parental_level_of_education = info[2][1:-1]\n",
    "    if parental_level_of_education == \"bachelor's degree\":\n",
    "        bachelors +=1\n",
    "print('Бакалавров:{}'.format(bachelors))\n",
    "    "
   ]
  },
  {
   "cell_type": "code",
   "execution_count": 16,
   "metadata": {},
   "outputs": [
    {
     "name": "stdout",
     "output_type": "stream",
     "text": [
      "Полноценно пообедали:0.645\n"
     ]
    }
   ],
   "source": [
    "f = open('StudentsPerformance.xls')\n",
    "lunches = 0\n",
    "for line in f:\n",
    "    info = line.split(',')\n",
    "    lunch = info[3][1:-1]\n",
    "    if lunch == 'standard':\n",
    "        lunches +=1\n",
    "print('Полноценно пообедали:{}'.format(lunches/1000))"
   ]
  },
  {
   "cell_type": "code",
   "execution_count": 27,
   "metadata": {},
   "outputs": [
    {
     "name": "stdout",
     "output_type": "stream",
     "text": [
      "Counter({'some college': 1808, \"associate's degree\": 1776, 'high school': 1568, 'some high school': 1432, \"bachelor's degree\": 944, \"master's degree\": 472, 'parental level of education': 8})\n"
     ]
    }
   ],
   "source": [
    "f = open('StudentsPerformance.xls')\n",
    "import collections\n",
    "parental_level = []\n",
    "for line in f:\n",
    "    info = line.split(',')\n",
    "    parental_level_of_education = info[2][1:-1]\n",
    "    for line in info:\n",
    "        parental_level.append(parental_level_of_education)\n",
    "c = collections.Counter()\n",
    "for parental_level_of_education in parental_level:\n",
    "    c[parental_level_of_education] +=1\n",
    "print(c)"
   ]
  },
  {
   "cell_type": "code",
   "execution_count": 28,
   "metadata": {},
   "outputs": [
    {
     "name": "stdout",
     "output_type": "stream",
     "text": [
      "К группе С относится:319\n"
     ]
    }
   ],
   "source": [
    "f = open('StudentsPerformance.xls')\n",
    "group_C = 0\n",
    "for line in f:\n",
    "    info = line.split(',')\n",
    "    race_ethnicity = info[1][1:-1]\n",
    "    if race_ethnicity == 'group C':\n",
    "        group_C +=1\n",
    "print('К группе С относится:{}'.format(group_C))"
   ]
  },
  {
   "cell_type": "code",
   "execution_count": 29,
   "metadata": {},
   "outputs": [
    {
     "name": "stdout",
     "output_type": "stream",
     "text": [
      "Counter({'group C': 2552, 'group D': 2096, 'group B': 1520, 'group E': 1120, 'group A': 712, 'race/ethnicity': 8})\n"
     ]
    }
   ],
   "source": [
    "f = open('StudentsPerformance.xls')\n",
    "import collections\n",
    "groups = []\n",
    "for line in f:\n",
    "    info = line.split(',')\n",
    "    race_ethnicity = info[1][1:-1]\n",
    "    for line in info:\n",
    "        groups.append(race_ethnicity)\n",
    "c = collections.Counter()\n",
    "for race_ethnicity in groups:\n",
    "    c[race_ethnicity] +=1\n",
    "print(c)"
   ]
  },
  {
   "cell_type": "code",
   "execution_count": null,
   "metadata": {},
   "outputs": [],
   "source": []
  }
 ],
 "metadata": {
  "kernelspec": {
   "display_name": "Python 3",
   "language": "python",
   "name": "python3"
  },
  "language_info": {
   "codemirror_mode": {
    "name": "ipython",
    "version": 3
   },
   "file_extension": ".py",
   "mimetype": "text/x-python",
   "name": "python",
   "nbconvert_exporter": "python",
   "pygments_lexer": "ipython3",
   "version": "3.7.4"
  }
 },
 "nbformat": 4,
 "nbformat_minor": 2
}
