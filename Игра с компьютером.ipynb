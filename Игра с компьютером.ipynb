{
 "cells": [
  {
   "cell_type": "code",
   "execution_count": 1,
   "metadata": {},
   "outputs": [
    {
     "name": "stdout",
     "output_type": "stream",
     "text": [
      "Загадано число от 1 до 99\n",
      "25\n",
      "Угадываемое число меньше 25 \n",
      "12\n",
      "Угадываемое число меньше 12 \n",
      "2\n",
      "Угадываемое число больше 2 \n",
      "5\n",
      "Угадываемое число меньше 5 \n",
      "4\n",
      "Угадываемое число меньше 4 \n",
      "3\n",
      "Вы угадали число 3 за 6 попыток.\n"
     ]
    }
   ],
   "source": [
    "import numpy as np\n",
    "count = 0                            # счетчик попыток\n",
    "number = np.random.randint(1,100)    # загадали число\n",
    "print (\"Загадано число от 1 до 99\")\n",
    "\n",
    "while True:                        # бесконечный цикл\n",
    "    predict = int(input())         # предполагаемое число\n",
    "    count += 1                     # плюсуем попытку\n",
    "    if number == predict: break    # выход из цикла, если угадали\n",
    "    elif number > predict: print (f\"Угадываемое число больше {predict} \")\n",
    "    elif number < predict: print (f\"Угадываемое число меньше {predict} \")\n",
    "        \n",
    "print (f\"Вы угадали число {number} за {count} попыток.\")"
   ]
  },
  {
   "cell_type": "code",
   "execution_count": 2,
   "metadata": {},
   "outputs": [
    {
     "name": "stdout",
     "output_type": "stream",
     "text": [
      "Загадано число от 1 до 99\n",
      "Угадываемое число меньше 97 \n",
      "Угадываемое число меньше 90 \n",
      "Угадываемое число больше 3 \n",
      "Угадываемое число больше 12 \n",
      "Угадываемое число меньше 84 \n",
      "Угадываемое число меньше 95 \n",
      "Угадываемое число меньше 56 \n",
      "Угадываемое число меньше 85 \n",
      "Угадываемое число больше 15 \n",
      "Угадываемое число больше 17 \n",
      "Угадываемое число меньше 78 \n",
      "Угадываемое число меньше 68 \n",
      "Угадываемое число меньше 96 \n",
      "Угадываемое число больше 1 \n",
      "Угадываемое число меньше 56 \n",
      "Угадываемое число больше 3 \n",
      "Угадываемое число больше 38 \n",
      "Угадываемое число меньше 76 \n",
      "Угадываемое число больше 4 \n",
      "Угадываемое число меньше 85 \n",
      "Угадываемое число меньше 85 \n",
      "Угадываемое число меньше 76 \n",
      "Угадываемое число меньше 57 \n",
      "Угадываемое число больше 19 \n",
      "Угадываемое число больше 30 \n",
      "Угадываемое число меньше 68 \n",
      "Угадываемое число меньше 99 \n",
      "Угадываемое число меньше 46 \n",
      "Угадываемое число меньше 87 \n",
      "Угадываемое число меньше 61 \n",
      "Угадываемое число меньше 79 \n",
      "Угадываемое число больше 4 \n",
      "Угадываемое число меньше 76 \n",
      "Угадываемое число больше 23 \n",
      "Угадываемое число больше 40 \n",
      "Угадываемое число меньше 55 \n",
      "Угадываемое число меньше 49 \n",
      "Угадываемое число меньше 53 \n",
      "Угадываемое число меньше 91 \n",
      "Угадываемое число меньше 64 \n",
      "Угадываемое число больше 6 \n",
      "Угадываемое число больше 29 \n",
      "Угадываемое число больше 34 \n",
      "Угадываемое число меньше 58 \n",
      "Угадываемое число меньше 59 \n",
      "Угадываемое число меньше 77 \n",
      "Угадываемое число больше 15 \n",
      "Угадываемое число меньше 62 \n",
      "Угадываемое число меньше 87 \n",
      "Угадываемое число больше 28 \n",
      "Угадываемое число меньше 92 \n",
      "Угадываемое число меньше 83 \n",
      "Угадываемое число меньше 69 \n",
      "Угадываемое число меньше 97 \n",
      "Угадываемое число больше 2 \n",
      "Угадываемое число больше 30 \n",
      "Угадываемое число меньше 92 \n",
      "Угадываемое число больше 22 \n",
      "Угадываемое число больше 26 \n",
      "Угадываемое число больше 11 \n",
      "Угадываемое число меньше 64 \n",
      "Угадываемое число меньше 44 \n",
      "Угадываемое число меньше 98 \n",
      "Угадываемое число больше 2 \n",
      "Угадываемое число меньше 60 \n",
      "Угадываемое число больше 11 \n",
      "Угадываемое число больше 5 \n",
      "Угадываемое число меньше 54 \n",
      "Угадываемое число больше 11 \n",
      "Угадываемое число меньше 71 \n",
      "Угадываемое число меньше 81 \n",
      "Угадываемое число больше 13 \n",
      "Угадываемое число меньше 92 \n",
      "Угадываемое число меньше 61 \n",
      "Угадываемое число меньше 58 \n",
      "Угадываемое число меньше 64 \n",
      "Угадываемое число меньше 65 \n",
      "Угадываемое число больше 40 \n",
      "Угадываемое число больше 25 \n",
      "Угадываемое число меньше 85 \n",
      "Угадываемое число меньше 82 \n",
      "Угадываемое число меньше 44 \n",
      "Угадываемое число больше 2 \n",
      "Угадываемое число меньше 64 \n",
      "Угадываемое число больше 8 \n",
      "Угадываемое число меньше 49 \n",
      "Угадываемое число меньше 85 \n",
      "Угадываемое число меньше 44 \n",
      "Угадываемое число меньше 89 \n",
      "Угадываемое число меньше 43 \n",
      "Угадываемое число меньше 89 \n",
      "Угадываемое число больше 24 \n",
      "Угадываемое число меньше 63 \n",
      "Угадываемое число меньше 70 \n",
      "Угадываемое число меньше 67 \n",
      "Угадываемое число больше 23 \n",
      "Угадываемое число больше 15 \n",
      "Угадываемое число больше 33 \n",
      "Угадываемое число меньше 83 \n",
      "Вы угадали число 42 за 99 попыток.\n"
     ]
    }
   ],
   "source": [
    "number = np.random.randint(1,100)    # загадали число\n",
    "print (\"Загадано число от 1 до 99\")\n",
    "\n",
    "for count in range(1,100):         # более компактный вариант счетчика\n",
    "    predict = np.random.randint(1,100) # предполагаемое число\n",
    "    if number == predict: break    # выход из цикла, если угадали\n",
    "    elif number > predict: print (f\"Угадываемое число больше {predict} \")\n",
    "    elif number < predict: print (f\"Угадываемое число меньше {predict} \")\n",
    "        \n",
    "print (f\"Вы угадали число {number} за {count} попыток.\")"
   ]
  },
  {
   "cell_type": "code",
   "execution_count": 3,
   "metadata": {},
   "outputs": [
    {
     "ename": "NameError",
     "evalue": "name 'score_game' is not defined",
     "output_type": "error",
     "traceback": [
      "\u001b[1;31m---------------------------------------------------------------------------\u001b[0m",
      "\u001b[1;31mNameError\u001b[0m                                 Traceback (most recent call last)",
      "\u001b[1;32m<ipython-input-3-2ca630cad83a>\u001b[0m in \u001b[0;36m<module>\u001b[1;34m\u001b[0m\n\u001b[0;32m     14\u001b[0m \u001b[1;33m\u001b[0m\u001b[0m\n\u001b[0;32m     15\u001b[0m \u001b[1;31m# Проверяем\u001b[0m\u001b[1;33m\u001b[0m\u001b[1;33m\u001b[0m\u001b[1;33m\u001b[0m\u001b[0m\n\u001b[1;32m---> 16\u001b[1;33m \u001b[0mprint\u001b[0m\u001b[1;33m(\u001b[0m\u001b[0mscore_game\u001b[0m\u001b[1;33m(\u001b[0m\u001b[0mgame_core_v2\u001b[0m\u001b[1;33m)\u001b[0m\u001b[1;33m)\u001b[0m\u001b[1;33m\u001b[0m\u001b[1;33m\u001b[0m\u001b[0m\n\u001b[0m",
      "\u001b[1;31mNameError\u001b[0m: name 'score_game' is not defined"
     ]
    }
   ],
   "source": [
    "def game_core_v2(number):\n",
    "    '''Сначала устанавливаем любое random число, а потом уменьшаем или увеличиваем его\n",
    "       в зависимости от того, больше оно или меньше нужного.\n",
    "       Функция принимает загаданное число и возвращает число попыток'''\n",
    "    count = 0\n",
    "    predict = np.random.randint(1,100)\n",
    "    while number != predict:\n",
    "        count+=1\n",
    "        if number > predict: \n",
    "            predict += 1\n",
    "        elif number < predict: \n",
    "            predict -= 1\n",
    "    return(count) # выход из цикла, если угадали\n",
    "\n",
    "# Проверяем\n",
    "score_game(game_core_v2)"
   ]
  },
  {
   "cell_type": "code",
   "execution_count": 4,
   "metadata": {},
   "outputs": [
    {
     "ename": "NameError",
     "evalue": "name 'game_core_v1' is not defined",
     "output_type": "error",
     "traceback": [
      "\u001b[1;31m---------------------------------------------------------------------------\u001b[0m",
      "\u001b[1;31mNameError\u001b[0m                                 Traceback (most recent call last)",
      "\u001b[1;32m<ipython-input-4-2486e2331bfd>\u001b[0m in \u001b[0;36m<module>\u001b[1;34m\u001b[0m\n\u001b[0;32m     11\u001b[0m \u001b[1;33m\u001b[0m\u001b[0m\n\u001b[0;32m     12\u001b[0m \u001b[1;31m# запускаем\u001b[0m\u001b[1;33m\u001b[0m\u001b[1;33m\u001b[0m\u001b[1;33m\u001b[0m\u001b[0m\n\u001b[1;32m---> 13\u001b[1;33m \u001b[0mscore_game\u001b[0m\u001b[1;33m(\u001b[0m\u001b[0mgame_core_v1\u001b[0m\u001b[1;33m)\u001b[0m\u001b[1;33m\u001b[0m\u001b[1;33m\u001b[0m\u001b[0m\n\u001b[0m",
      "\u001b[1;31mNameError\u001b[0m: name 'game_core_v1' is not defined"
     ]
    }
   ],
   "source": [
    "def score_game(game_core_v1):\n",
    "    '''Запускаем игру 1000 раз, чтоб узнать как быстро игра угадывает число'''\n",
    "    count_ls = []\n",
    "    np.random.seed(1)  # фиксируем RANDOM SEED, чтобы ваш эксперимент был воспроизводим!\n",
    "    random_array = np.random.randint(1, 101, size=(1000))\n",
    "    for number in random_array:\n",
    "        count_ls.append(game_core_v1(number))\n",
    "    score = int(np.mean(count_ls))\n",
    "    print(f\"Ваш алгоритм угадывает число в среднем за {score} попыток\")\n",
    "    return(score)\n",
    "\n",
    "# запускаем\n",
    "score_game(game_core_v1)"
   ]
  },
  {
   "cell_type": "code",
   "execution_count": 1,
   "metadata": {},
   "outputs": [
    {
     "name": "stdout",
     "output_type": "stream",
     "text": [
      "Загадано число от 1 до 99\n",
      "25\n",
      "Угадываемое число больше 25 \n",
      "45\n",
      "Угадываемое число больше 45 \n",
      "90\n",
      "Угадываемое число меньше 90 \n",
      "55\n",
      "Угадываемое число меньше 55 \n",
      "50\n",
      "Угадываемое число больше 50 \n",
      "52\n",
      "Угадываемое число больше 52 \n",
      "53\n",
      "Вы угадали число 53 за 7 попыток.\n"
     ]
    }
   ],
   "source": [
    "import numpy as np\n",
    "count = 0                            # счетчик попыток\n",
    "number = np.random.randint(1,100)    # загадали число\n",
    "print (\"Загадано число от 1 до 99\")\n",
    "\n",
    "while True:                        # бесконечный цикл\n",
    "    predict = int(input())         # предполагаемое число\n",
    "    count += 1                     # плюсуем попытку\n",
    "    if number == predict: break    # выход из цикла, если угадали\n",
    "    elif number > predict: print (f\"Угадываемое число больше {predict} \")\n",
    "    elif number < predict: print (f\"Угадываемое число меньше {predict} \")\n",
    "        \n",
    "print (f\"Вы угадали число {number} за {count} попыток.\")"
   ]
  },
  {
   "cell_type": "code",
   "execution_count": 23,
   "metadata": {},
   "outputs": [
    {
     "name": "stdout",
     "output_type": "stream",
     "text": [
      "Item  45 not found!\n"
     ]
    }
   ],
   "source": [
    "import numpy as np\n",
    "\n",
    "number = np.random.randint(1,100)\n",
    "\n",
    "def binary_search(mylist, number, start, stop):\n",
    "    if start > stop:\n",
    "        return False\n",
    "    else:\n",
    "        mid = (start + stop) // 2\n",
    "        if number == mylist[mid]:\n",
    "            return mid\n",
    "        elif iskat < mylist[mid]:\n",
    "            return binary_search(mylist, number, start, mid-1)\n",
    "        else:\n",
    "            return binary_search(mylist, number, mid+1, stop)\n",
    "\n",
    "for count in range(1,100):\n",
    "    predict = np.random.randint(1, 100)\n",
    "    \n",
    "\n",
    "x = binary_search(mylist, number, 0, len(mylist))\n",
    "\n",
    "if x == False:\n",
    "    print(\"Item \", number, \"not found!\")\n",
    "else:\n",
    "    print(\"Item \", number, \"Found at Index\", x)"
   ]
  },
  {
   "cell_type": "code",
   "execution_count": null,
   "metadata": {},
   "outputs": [],
   "source": []
  }
 ],
 "metadata": {
  "kernelspec": {
   "display_name": "Python 3",
   "language": "python",
   "name": "python3"
  },
  "language_info": {
   "codemirror_mode": {
    "name": "ipython",
    "version": 3
   },
   "file_extension": ".py",
   "mimetype": "text/x-python",
   "name": "python",
   "nbconvert_exporter": "python",
   "pygments_lexer": "ipython3",
   "version": "3.7.4"
  }
 },
 "nbformat": 4,
 "nbformat_minor": 2
}
